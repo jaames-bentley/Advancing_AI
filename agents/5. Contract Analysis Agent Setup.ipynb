{
 "cells": [
  {
   "cell_type": "markdown",
   "metadata": {
    "application/vnd.databricks.v1+cell": {
     "cellMetadata": {
      "byteLimit": 2048000,
      "rowLimit": 10000
     },
     "inputWidgets": {},
     "nuid": "5509a050-c261-49a9-8ab9-e88ca9127aa9",
     "showTitle": false,
     "tableResultSettingsMap": {},
     "title": ""
    }
   },
   "source": [
    "# Imports"
   ]
  },
  {
   "cell_type": "code",
   "execution_count": 0,
   "metadata": {
    "application/vnd.databricks.v1+cell": {
     "cellMetadata": {
      "byteLimit": 2048000,
      "rowLimit": 10000
     },
     "inputWidgets": {},
     "nuid": "758ea3c8-f6cb-42c6-b6fe-c6834c86011f",
     "showTitle": false,
     "tableResultSettingsMap": {},
     "title": ""
    },
    "jupyter": {
     "outputs_hidden": true
    }
   },
   "outputs": [],
   "source": [
    "%pip install unitycatalog-ai[databricks] unitycatalog-langchain[databricks] databricks-langchain==0.3.0 pypdf==5.0.1 faiss-cpu==1.9.0"
   ]
  },
  {
   "cell_type": "code",
   "execution_count": 0,
   "metadata": {
    "application/vnd.databricks.v1+cell": {
     "cellMetadata": {
      "byteLimit": 2048000,
      "rowLimit": 10000
     },
     "inputWidgets": {},
     "nuid": "2dbf8a79-292f-45db-b1b0-1eb32ac35246",
     "showTitle": false,
     "tableResultSettingsMap": {},
     "title": ""
    }
   },
   "outputs": [],
   "source": [
    "dbutils.library.restartPython()"
   ]
  },
  {
   "cell_type": "markdown",
   "metadata": {
    "application/vnd.databricks.v1+cell": {
     "cellMetadata": {
      "byteLimit": 2048000,
      "rowLimit": 10000
     },
     "inputWidgets": {},
     "nuid": "2a8d61fd-6c4a-4668-8de9-19e3f689a052",
     "showTitle": false,
     "tableResultSettingsMap": {},
     "title": ""
    }
   },
   "source": [
    "# Get Document\n",
    "\n",
    "Load the contents of [The Highway Code](https://www.highwaycodeuk.co.uk/uploads/3/2/9/2/3292309/the-official-highway-code-with-annexes-uk-en-12-04.pdf) and chunk it up."
   ]
  },
  {
   "cell_type": "code",
   "execution_count": 0,
   "metadata": {
    "application/vnd.databricks.v1+cell": {
     "cellMetadata": {
      "byteLimit": 2048000,
      "rowLimit": 10000
     },
     "inputWidgets": {},
     "nuid": "a730c8db-2e12-4c26-a171-c49a535f7344",
     "showTitle": false,
     "tableResultSettingsMap": {},
     "title": ""
    }
   },
   "outputs": [],
   "source": [
    "from langchain_community.document_loaders import PyPDFLoader\n",
    "from langchain_text_splitters import RecursiveCharacterTextSplitter"
   ]
  },
  {
   "cell_type": "code",
   "execution_count": 0,
   "metadata": {
    "application/vnd.databricks.v1+cell": {
     "cellMetadata": {
      "byteLimit": 2048000,
      "rowLimit": 10000
     },
     "inputWidgets": {},
     "nuid": "72fc26e0-d6ba-40e6-8208-38cb3ffd88d3",
     "showTitle": false,
     "tableResultSettingsMap": {},
     "title": ""
    }
   },
   "outputs": [],
   "source": [
    "documents = []\n",
    "\n",
    "loader = PyPDFLoader(\"https://www.highwaycodeuk.co.uk/uploads/3/2/9/2/3292309/the-official-highway-code-with-annexes-uk-en-12-04.pdf\")\n",
    "\n",
    "# Creates a list of Document objects\n",
    "for page in loader.load():\n",
    "    documents.append(page)"
   ]
  },
  {
   "cell_type": "code",
   "execution_count": 0,
   "metadata": {
    "application/vnd.databricks.v1+cell": {
     "cellMetadata": {
      "byteLimit": 2048000,
      "rowLimit": 10000
     },
     "inputWidgets": {},
     "nuid": "c6fa2009-e954-45d2-ba96-db0326b4d027",
     "showTitle": false,
     "tableResultSettingsMap": {},
     "title": ""
    }
   },
   "outputs": [],
   "source": [
    "# Set up our text splitter\n",
    "text_splitter = RecursiveCharacterTextSplitter(\n",
    "    chunk_size=2000,\n",
    "    chunk_overlap=400,\n",
    "    length_function=len,\n",
    "    is_separator_regex=False,\n",
    ")"
   ]
  },
  {
   "cell_type": "code",
   "execution_count": 0,
   "metadata": {
    "application/vnd.databricks.v1+cell": {
     "cellMetadata": {
      "byteLimit": 2048000,
      "rowLimit": 10000
     },
     "inputWidgets": {},
     "nuid": "3b21210a-97cf-40d5-87df-28f2170166f4",
     "showTitle": false,
     "tableResultSettingsMap": {},
     "title": ""
    }
   },
   "outputs": [],
   "source": [
    "split_docs = text_splitter.split_documents(documents)"
   ]
  },
  {
   "cell_type": "markdown",
   "metadata": {
    "application/vnd.databricks.v1+cell": {
     "cellMetadata": {
      "byteLimit": 2048000,
      "rowLimit": 10000
     },
     "inputWidgets": {},
     "nuid": "4d358020-8438-4847-abe9-a00f034065ef",
     "showTitle": false,
     "tableResultSettingsMap": {},
     "title": ""
    }
   },
   "source": [
    "# Create Vector Search"
   ]
  },
  {
   "cell_type": "markdown",
   "metadata": {
    "application/vnd.databricks.v1+cell": {
     "cellMetadata": {
      "byteLimit": 2048000,
      "rowLimit": 10000
     },
     "inputWidgets": {},
     "nuid": "4568b419-d5ec-434d-a328-2fb319c07a82",
     "showTitle": false,
     "tableResultSettingsMap": {},
     "title": ""
    }
   },
   "source": [
    "## Databricks Vector Search"
   ]
  },
  {
   "cell_type": "code",
   "execution_count": 0,
   "metadata": {
    "application/vnd.databricks.v1+cell": {
     "cellMetadata": {
      "byteLimit": 2048000,
      "rowLimit": 10000
     },
     "inputWidgets": {},
     "nuid": "22a97d0e-9409-4f39-9b37-d5b566541f13",
     "showTitle": false,
     "tableResultSettingsMap": {},
     "title": ""
    }
   },
   "outputs": [],
   "source": [
    "from databricks.vector_search.client import VectorSearchClient"
   ]
  },
  {
   "cell_type": "code",
   "execution_count": 0,
   "metadata": {
    "application/vnd.databricks.v1+cell": {
     "cellMetadata": {
      "byteLimit": 2048000,
      "rowLimit": 10000
     },
     "inputWidgets": {},
     "nuid": "3b2eb46a-0e06-42fe-8502-472e148a1dbf",
     "showTitle": false,
     "tableResultSettingsMap": {},
     "title": ""
    },
    "jupyter": {
     "outputs_hidden": true
    }
   },
   "outputs": [],
   "source": [
    "client = VectorSearchClient()"
   ]
  },
  {
   "cell_type": "code",
   "execution_count": 0,
   "metadata": {
    "application/vnd.databricks.v1+cell": {
     "cellMetadata": {
      "byteLimit": 2048000,
      "rowLimit": 10000
     },
     "inputWidgets": {},
     "nuid": "1c03742d-c217-4d84-9dfe-bd894a0f899c",
     "showTitle": false,
     "tableResultSettingsMap": {},
     "title": ""
    }
   },
   "outputs": [],
   "source": [
    "# Ensure our index source table exists\n",
    "spark.sql(f\"\"\"\n",
    "CREATE TABLE IF NOT EXISTS advancing_ai.datasets.highway_code (\n",
    "    chunk_id STRING COMMENT 'document_id + chunk number' NOT NULL,\n",
    "    document_id STRING COMMENT 'base64 encoded source' NOT NULL,\n",
    "    document_source STRING COMMENT 'Source of the document' NOT NULL,\n",
    "    document_title STRING COMMENT 'Document title' NOT NULL,\n",
    "    total_pages STRING COMMENT 'Total pages of the document' NOT NULL,\n",
    "    page STRING COMMENT 'Page number',\n",
    "    page_label STRING COMMENT 'Page number label' NOT NULL,\n",
    "    creation_date TIMESTAMP COMMENT 'Document creation date' NOT NULL,\n",
    "    chunk_content STRING COMMENT 'Chunk text' NOT NULL\n",
    ")\n",
    "USING delta \n",
    "COMMENT 'Table to store document chunks and related metadata'\n",
    "TBLPROPERTIES (delta.enableChangeDataFeed = true)\n",
    "\"\"\")"
   ]
  },
  {
   "cell_type": "code",
   "execution_count": 0,
   "metadata": {
    "application/vnd.databricks.v1+cell": {
     "cellMetadata": {
      "byteLimit": 2048000,
      "rowLimit": 10000
     },
     "inputWidgets": {},
     "nuid": "57a1f0eb-196b-4372-a098-3794b880ec5f",
     "showTitle": false,
     "tableResultSettingsMap": {},
     "title": ""
    }
   },
   "outputs": [],
   "source": [
    "# Create our index as a triggered delta sync table\n",
    "index = client.create_delta_sync_index(\n",
    "    endpoint_name=\"advancing_ai_vector_search\",\n",
    "    source_table_name=\"advancing_ai.datasets.highway_code\",\n",
    "    index_name=\"advancing_ai.datasets.highway_code_index\",\n",
    "    pipeline_type=\"TRIGGERED\",\n",
    "    primary_key=\"chunk_id\",\n",
    "    embedding_source_column=\"chunk_content\",\n",
    "    embedding_model_endpoint_name=\"text-embedding-ada-002\"\n",
    ")"
   ]
  },
  {
   "cell_type": "code",
   "execution_count": 0,
   "metadata": {
    "application/vnd.databricks.v1+cell": {
     "cellMetadata": {
      "byteLimit": 2048000,
      "rowLimit": 10000
     },
     "inputWidgets": {},
     "nuid": "9cea733d-7b34-4d94-a50d-2097489e9929",
     "showTitle": false,
     "tableResultSettingsMap": {},
     "title": ""
    }
   },
   "outputs": [],
   "source": [
    "from pyspark.sql.types import StructType, StructField, StringType, TimestampType\n",
    "\n",
    "highway_code_schema = StructType([\n",
    "    StructField(\"chunk_id\", StringType(), False),\n",
    "    StructField(\"document_id\", StringType(), False),\n",
    "    StructField(\"document_source\", StringType(), False),\n",
    "    StructField(\"document_title\", StringType(), False),\n",
    "    StructField(\"total_pages\", StringType(), False),\n",
    "    StructField(\"page\", StringType(), True),\n",
    "    StructField(\"page_label\", StringType(), False),\n",
    "    StructField(\"creation_date\", TimestampType(), False),\n",
    "    StructField(\"chunk_content\", StringType(), False)\n",
    "])"
   ]
  },
  {
   "cell_type": "code",
   "execution_count": 0,
   "metadata": {
    "application/vnd.databricks.v1+cell": {
     "cellMetadata": {
      "byteLimit": 2048000,
      "rowLimit": 10000
     },
     "inputWidgets": {},
     "nuid": "1e7c24a3-a36b-4d14-b269-c8cd4303c6b7",
     "showTitle": false,
     "tableResultSettingsMap": {},
     "title": ""
    }
   },
   "outputs": [],
   "source": [
    "import base64\n",
    "from datetime import datetime\n",
    "\n",
    "# Create a list documents structured with our schema\n",
    "structured_docs = [\n",
    "    {\n",
    "        \"chunk_id\": base64.urlsafe_b64encode(bytes(f\"{doc.metadata.get('source')}_{i}\", \"utf-8\")).decode('utf-8'),\n",
    "        \"document_id\": base64.urlsafe_b64encode(bytes(f\"{doc.metadata.get('source')}\", \"utf-8\")).decode('utf-8'),\n",
    "        \"document_source\": doc.metadata.get(\"source\"),\n",
    "        \"document_title\": doc.metadata.get(\"title\"),\n",
    "        \"total_pages\": doc.metadata.get(\"total_pages\"),\n",
    "        \"page\": doc.metadata.get(\"page\"),\n",
    "        \"page_label\": doc.metadata.get(\"page_label\"),\n",
    "        \"creation_date\": datetime.fromisoformat(doc.metadata.get(\"creationdate\")),\n",
    "        \"chunk_content\": doc.page_content\n",
    "    }\n",
    "    for i, doc in enumerate(split_docs)\n",
    "]"
   ]
  },
  {
   "cell_type": "code",
   "execution_count": 0,
   "metadata": {
    "application/vnd.databricks.v1+cell": {
     "cellMetadata": {
      "byteLimit": 2048000,
      "rowLimit": 10000
     },
     "inputWidgets": {},
     "nuid": "30b5ed8a-090e-4f87-a9ae-1a0251b15139",
     "showTitle": false,
     "tableResultSettingsMap": {},
     "title": ""
    }
   },
   "outputs": [],
   "source": [
    "(\n",
    "    spark\n",
    "    .createDataFrame(structured_docs, highway_code_schema)\n",
    "    .write\n",
    "    .mode(\"overwrite\")\n",
    "    .saveAsTable(\"advancing_ai.datasets.highway_code\")\n",
    ")"
   ]
  },
  {
   "cell_type": "code",
   "execution_count": 0,
   "metadata": {
    "application/vnd.databricks.v1+cell": {
     "cellMetadata": {},
     "inputWidgets": {},
     "nuid": "df8345f4-a645-42f4-a6a1-6c731b097aa1",
     "showTitle": false,
     "tableResultSettingsMap": {},
     "title": ""
    }
   },
   "outputs": [],
   "source": [
    "%sql\n",
    "-- Create our RAG tool in the Unity Catalog\n",
    "CREATE OR REPLACE FUNCTION `advancing_ai`.`agentic-tools`.`search_highway_code` (\n",
    "  query STRING\n",
    "  COMMENT 'The query string for searching UK highway code legislation and guidance.'\n",
    ") RETURNS TABLE\n",
    "COMMENT 'Executes a search on UK highway code legislation and guidance to retrieve text documents most relevant to the input query.' RETURN\n",
    "\n",
    "SELECT\n",
    "  chunk_content,\n",
    "  map('page', page_label, 'chunk_id', chunk_id) as metadata\n",
    "FROM\n",
    "  vector_search(\n",
    "    index => 'advancing_ai.datasets.highway_code_index',\n",
    "    query => query,\n",
    "    num_results => 5\n",
    "  )"
   ]
  },
  {
   "cell_type": "code",
   "execution_count": 0,
   "metadata": {
    "application/vnd.databricks.v1+cell": {
     "cellMetadata": {
      "byteLimit": 2048000,
      "rowLimit": 10000
     },
     "inputWidgets": {},
     "nuid": "6827e9bd-7180-44a6-b78a-f5bf9bbe06d1",
     "showTitle": false,
     "tableResultSettingsMap": {},
     "title": ""
    }
   },
   "outputs": [],
   "source": [
    "# Have a look at our new function\n",
    "client.get_function(\"advancing_ai.agentic-tools.search_highway_code\")"
   ]
  },
  {
   "cell_type": "markdown",
   "metadata": {
    "application/vnd.databricks.v1+cell": {
     "cellMetadata": {},
     "inputWidgets": {},
     "nuid": "2f209a28-97b6-4314-a738-0ecb0dcfb64d",
     "showTitle": false,
     "tableResultSettingsMap": {},
     "title": ""
    }
   },
   "source": [
    "## FAISS Vector Store"
   ]
  },
  {
   "cell_type": "code",
   "execution_count": 0,
   "metadata": {
    "application/vnd.databricks.v1+cell": {
     "cellMetadata": {
      "byteLimit": 2048000,
      "rowLimit": 10000
     },
     "inputWidgets": {},
     "nuid": "3d428bf9-9791-42ff-82ed-e2311c66caea",
     "showTitle": false,
     "tableResultSettingsMap": {},
     "title": ""
    }
   },
   "outputs": [],
   "source": [
    "import faiss\n",
    "\n",
    "from databricks_langchain import DatabricksEmbeddings\n",
    "from langchain_community.docstore.in_memory import InMemoryDocstore\n",
    "from langchain_community.vectorstores import FAISS"
   ]
  },
  {
   "cell_type": "code",
   "execution_count": 0,
   "metadata": {
    "application/vnd.databricks.v1+cell": {
     "cellMetadata": {
      "byteLimit": 2048000,
      "rowLimit": 10000
     },
     "inputWidgets": {},
     "nuid": "7944f225-610d-497e-849c-bc1015ac4b98",
     "showTitle": false,
     "tableResultSettingsMap": {},
     "title": ""
    }
   },
   "outputs": [],
   "source": [
    "# Create a Langchain embeddings connection\n",
    "embeddings = DatabricksEmbeddings(\n",
    "    endpoint=\"text-embedding-ada-002\",\n",
    "    max_retries=10,\n",
    "    retry_min_seconds=30,\n",
    "    retry_max_seconds=120,\n",
    ")"
   ]
  },
  {
   "cell_type": "code",
   "execution_count": 0,
   "metadata": {
    "application/vnd.databricks.v1+cell": {
     "cellMetadata": {
      "byteLimit": 2048000,
      "rowLimit": 10000
     },
     "inputWidgets": {},
     "nuid": "09cbd7b7-ed14-422b-896d-3b3bf0dc7949",
     "showTitle": false,
     "tableResultSettingsMap": {},
     "title": ""
    }
   },
   "outputs": [],
   "source": [
    "# Instantiate our FAISS with the vector size we are using (text-embedding-ada-002 is 1536)\n",
    "index = faiss.IndexFlatL2(1536)"
   ]
  },
  {
   "cell_type": "code",
   "execution_count": 0,
   "metadata": {
    "application/vnd.databricks.v1+cell": {
     "cellMetadata": {
      "byteLimit": 2048000,
      "rowLimit": 10000
     },
     "inputWidgets": {},
     "nuid": "74235444-ee8b-4a03-b722-953dabdbfe2e",
     "showTitle": false,
     "tableResultSettingsMap": {},
     "title": ""
    }
   },
   "outputs": [],
   "source": [
    "# Create our vector database in memory\n",
    "db = FAISS(\n",
    "    embedding_function=embeddings,\n",
    "    index=index,\n",
    "    docstore=InMemoryDocstore(),\n",
    "    index_to_docstore_id={},\n",
    ")"
   ]
  },
  {
   "cell_type": "code",
   "execution_count": 0,
   "metadata": {
    "application/vnd.databricks.v1+cell": {
     "cellMetadata": {
      "byteLimit": 2048000,
      "rowLimit": 10000
     },
     "inputWidgets": {},
     "nuid": "1331d7ff-39d8-4dc7-8dd5-5ecedb8bf35a",
     "showTitle": false,
     "tableResultSettingsMap": {},
     "title": ""
    }
   },
   "outputs": [],
   "source": [
    "# Add our docs to the db\n",
    "doc_ids = db.add_documents(documents=split_docs)"
   ]
  },
  {
   "cell_type": "code",
   "execution_count": 0,
   "metadata": {
    "application/vnd.databricks.v1+cell": {
     "cellMetadata": {
      "byteLimit": 2048000,
      "rowLimit": 10000
     },
     "inputWidgets": {},
     "nuid": "d154043b-73be-4fd5-bbb4-bdeffc4a441a",
     "showTitle": false,
     "tableResultSettingsMap": {},
     "title": ""
    }
   },
   "outputs": [],
   "source": [
    "# Do a test search to make sure it works!\n",
    "db.max_marginal_relevance_search(\"What can I drive on a bridleway but not on a pavement?\")"
   ]
  },
  {
   "cell_type": "code",
   "execution_count": 0,
   "metadata": {
    "application/vnd.databricks.v1+cell": {
     "cellMetadata": {
      "byteLimit": 2048000,
      "rowLimit": 10000
     },
     "inputWidgets": {},
     "nuid": "82bc6355-f48f-42c9-a073-49d2b5f6e0d4",
     "showTitle": false,
     "tableResultSettingsMap": {},
     "title": ""
    }
   },
   "outputs": [],
   "source": [
    "from langchain_core.tools import tool\n",
    "\n",
    "# We can create this as a tool locally\n",
    "@tool\n",
    "def search(query: str) -> str:\n",
    "    \"\"\"\n",
    "    Performs a similarity search on a collection of documents.\n",
    "    Returns the most similar documents to the query.\n",
    "\n",
    "    Args:\n",
    "        query (str): The query to search for.\n",
    "\n",
    "    Returns:\n",
    "        List[str]: A list of the most similar documents.\n",
    "    \"\"\"\n",
    "    return db.max_marginal_relevance_search(query)"
   ]
  }
 ],
 "metadata": {
  "application/vnd.databricks.v1+notebook": {
   "computePreferences": null,
   "dashboards": [],
   "environmentMetadata": {
    "base_environment": "",
    "environment_version": "2"
   },
   "language": "python",
   "notebookMetadata": {
    "pythonIndentUnit": 4
   },
   "notebookName": "5. Contract Analysis Agent Setup",
   "widgets": {}
  },
  "language_info": {
   "name": "python"
  }
 },
 "nbformat": 4,
 "nbformat_minor": 0
}