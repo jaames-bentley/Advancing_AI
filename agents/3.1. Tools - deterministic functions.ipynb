{
 "cells": [
  {
   "cell_type": "markdown",
   "metadata": {
    "application/vnd.databricks.v1+cell": {
     "cellMetadata": {
      "byteLimit": 2048000,
      "rowLimit": 10000
     },
     "inputWidgets": {},
     "nuid": "f223a5de-c26c-4cab-8450-8346dd7e9636",
     "showTitle": false,
     "tableResultSettingsMap": {},
     "title": ""
    }
   },
   "source": [
    "# Installs"
   ]
  },
  {
   "cell_type": "code",
   "execution_count": 0,
   "metadata": {
    "application/vnd.databricks.v1+cell": {
     "cellMetadata": {
      "byteLimit": 2048000,
      "rowLimit": 10000
     },
     "inputWidgets": {},
     "nuid": "a9773246-9093-453a-ad99-bf963819f259",
     "showTitle": false,
     "tableResultSettingsMap": {},
     "title": ""
    },
    "jupyter": {
     "outputs_hidden": true
    }
   },
   "outputs": [],
   "source": [
    "%pip install unitycatalog-ai[databricks] unitycatalog-langchain[databricks] langgraph==0.2.74 databricks-langchain==0.3.0"
   ]
  },
  {
   "cell_type": "code",
   "execution_count": 0,
   "metadata": {
    "application/vnd.databricks.v1+cell": {
     "cellMetadata": {
      "byteLimit": 2048000,
      "rowLimit": 10000
     },
     "inputWidgets": {},
     "nuid": "d58adf0a-7a51-45db-b97a-57c600b89454",
     "showTitle": false,
     "tableResultSettingsMap": {},
     "title": ""
    }
   },
   "outputs": [],
   "source": [
    "dbutils.library.restartPython()"
   ]
  },
  {
   "cell_type": "markdown",
   "metadata": {
    "application/vnd.databricks.v1+cell": {
     "cellMetadata": {
      "byteLimit": 2048000,
      "rowLimit": 10000
     },
     "inputWidgets": {},
     "nuid": "eb5cf2d0-134b-4ac2-996b-b151d56f1d60",
     "showTitle": false,
     "tableResultSettingsMap": {},
     "title": ""
    }
   },
   "source": [
    "# Setup"
   ]
  },
  {
   "cell_type": "code",
   "execution_count": 0,
   "metadata": {
    "application/vnd.databricks.v1+cell": {
     "cellMetadata": {
      "byteLimit": 2048000,
      "rowLimit": 10000
     },
     "inputWidgets": {},
     "nuid": "35be4cb6-d41e-4018-ac92-6524f3a9cc15",
     "showTitle": false,
     "tableResultSettingsMap": {},
     "title": ""
    }
   },
   "outputs": [],
   "source": [
    "from databricks_langchain import ChatDatabricks"
   ]
  },
  {
   "cell_type": "markdown",
   "metadata": {
    "application/vnd.databricks.v1+cell": {
     "cellMetadata": {
      "byteLimit": 2048000,
      "rowLimit": 10000
     },
     "inputWidgets": {},
     "nuid": "2eb08f38-09de-47a1-861c-50b9dd78546b",
     "showTitle": false,
     "tableResultSettingsMap": {},
     "title": ""
    }
   },
   "source": [
    "# Create Some Basic Tools"
   ]
  },
  {
   "cell_type": "code",
   "execution_count": 0,
   "metadata": {
    "application/vnd.databricks.v1+cell": {
     "cellMetadata": {
      "byteLimit": 2048000,
      "rowLimit": 10000
     },
     "inputWidgets": {},
     "nuid": "a5cf5107-b1f5-4399-b71e-d5ff235a13b1",
     "showTitle": false,
     "tableResultSettingsMap": {},
     "title": ""
    }
   },
   "outputs": [],
   "source": [
    "import math\n",
    "from langchain_core.tools import tool\n",
    "\n",
    "@tool\n",
    "def solve_quadratic(a, b, c):\n",
    "    \"\"\"\n",
    "    Solves the quadratic formula give the inputs a, b, and c.\n",
    "    Returns the number of real roots, plus their values if found.\n",
    "    \"\"\"\n",
    "    # Calculate the discriminant\n",
    "    discriminant = b**2 - 4*a*c\n",
    "    \n",
    "    # Check if the discriminant is negative, zero, or positive\n",
    "    if discriminant < 0:\n",
    "        return \"No real roots\"\n",
    "    elif discriminant == 0:\n",
    "        x = -b / (2*a)\n",
    "        return f\"One real root: {x}\"\n",
    "    else:\n",
    "        x1 = (-b + math.sqrt(discriminant)) / (2*a)\n",
    "        x2 = (-b - math.sqrt(discriminant)) / (2*a)\n",
    "        return f\"Two real roots: {x1} and {x2}\"\n",
    "    \n",
    "@tool\n",
    "def pythagorean_theorem(a=None, b=None, c=None):\n",
    "    \"\"\"\n",
    "    Solves the Pythagorean Theorem formula give the inputs a, b, and c.\n",
    "    Returns the length of the third side. Returns an error unless exactly one side length is None.\n",
    "    \"\"\"\n",
    "    if a is None:\n",
    "        return math.sqrt(c**2 - b**2)\n",
    "    elif b is None:\n",
    "        return math.sqrt(c**2 - a**2)\n",
    "    elif c is None:\n",
    "        return math.sqrt(a**2 + b**2)\n",
    "    else:\n",
    "        raise(\"Please provide exactly one side length as None\")\n"
   ]
  },
  {
   "cell_type": "code",
   "execution_count": 0,
   "metadata": {
    "application/vnd.databricks.v1+cell": {
     "cellMetadata": {
      "byteLimit": 2048000,
      "rowLimit": 10000
     },
     "inputWidgets": {},
     "nuid": "ca5f3281-2db1-480f-ae24-e72e65110cc7",
     "showTitle": false,
     "tableResultSettingsMap": {},
     "title": ""
    }
   },
   "outputs": [],
   "source": [
    "print(f\"Name: {solve_quadratic.name}\\n\")\n",
    "print(f\"Description: {solve_quadratic.description}\\n\")\n",
    "print(f\"Args: {solve_quadratic.args}\")"
   ]
  },
  {
   "cell_type": "markdown",
   "metadata": {
    "application/vnd.databricks.v1+cell": {
     "cellMetadata": {
      "byteLimit": 2048000,
      "rowLimit": 10000
     },
     "inputWidgets": {},
     "nuid": "5dc70cad-7a48-43d3-a129-1bd4c3650363",
     "showTitle": false,
     "tableResultSettingsMap": {},
     "title": ""
    }
   },
   "source": [
    "# Create LLM + ReAct Agent"
   ]
  },
  {
   "cell_type": "code",
   "execution_count": 0,
   "metadata": {
    "application/vnd.databricks.v1+cell": {
     "cellMetadata": {
      "byteLimit": 2048000,
      "rowLimit": 10000
     },
     "inputWidgets": {},
     "nuid": "4551ccfb-f5cb-4255-bd9b-f1331cf909e6",
     "showTitle": false,
     "tableResultSettingsMap": {},
     "title": ""
    }
   },
   "outputs": [],
   "source": [
    "llm = ChatDatabricks(\n",
    "    endpoint= \"gpt-4o\"\n",
    ")"
   ]
  },
  {
   "cell_type": "code",
   "execution_count": 0,
   "metadata": {
    "application/vnd.databricks.v1+cell": {
     "cellMetadata": {
      "byteLimit": 2048000,
      "rowLimit": 10000
     },
     "inputWidgets": {},
     "nuid": "598361bd-a09d-4f75-bd14-528e1cb9eb73",
     "showTitle": false,
     "tableResultSettingsMap": {},
     "title": ""
    }
   },
   "outputs": [],
   "source": [
    "prompt = \"You are an AI agent who loves to help students with their maths homework!\""
   ]
  },
  {
   "cell_type": "code",
   "execution_count": 0,
   "metadata": {
    "application/vnd.databricks.v1+cell": {
     "cellMetadata": {
      "byteLimit": 2048000,
      "rowLimit": 10000
     },
     "inputWidgets": {},
     "nuid": "9dd24674-5ef6-44ab-b783-a070a124a8f6",
     "showTitle": false,
     "tableResultSettingsMap": {},
     "title": ""
    }
   },
   "outputs": [],
   "source": [
    "from langgraph.prebuilt import create_react_agent\n",
    "\n",
    "agent_executor = create_react_agent(llm, [solve_quadratic, pythagorean_theorem], prompt=prompt)"
   ]
  },
  {
   "cell_type": "markdown",
   "metadata": {
    "application/vnd.databricks.v1+cell": {
     "cellMetadata": {
      "byteLimit": 2048000,
      "rowLimit": 10000
     },
     "inputWidgets": {},
     "nuid": "989762a1-02f6-44e7-bb35-dd1d08acbd43",
     "showTitle": false,
     "tableResultSettingsMap": {},
     "title": ""
    }
   },
   "source": [
    "# Use The Tools!"
   ]
  },
  {
   "cell_type": "code",
   "execution_count": 0,
   "metadata": {
    "application/vnd.databricks.v1+cell": {
     "cellMetadata": {
      "byteLimit": 2048000,
      "rowLimit": 10000
     },
     "inputWidgets": {},
     "nuid": "bd3c9f90-0a47-4046-b164-531587f509d0",
     "showTitle": false,
     "tableResultSettingsMap": {},
     "title": ""
    }
   },
   "outputs": [],
   "source": [
    "result = agent_executor.invoke({\"messages\": [(\"user\", \"How many real roots are there for a quadratic equation with a=1, b=2, and c=3?\")]})"
   ]
  },
  {
   "cell_type": "code",
   "execution_count": 0,
   "metadata": {
    "application/vnd.databricks.v1+cell": {
     "cellMetadata": {
      "byteLimit": 2048000,
      "rowLimit": 10000
     },
     "inputWidgets": {},
     "nuid": "98a4826b-ebe0-4135-874e-dda4bece4059",
     "showTitle": false,
     "tableResultSettingsMap": {},
     "title": ""
    }
   },
   "outputs": [],
   "source": [
    "result = agent_executor.invoke({\"messages\": [(\"user\", \"How long is the third side of a right triangle with a=3 and b=4?\")]})"
   ]
  },
  {
   "cell_type": "code",
   "execution_count": 0,
   "metadata": {
    "application/vnd.databricks.v1+cell": {
     "cellMetadata": {
      "byteLimit": 2048000,
      "rowLimit": 10000
     },
     "inputWidgets": {},
     "nuid": "599aa632-3fb1-4310-b660-34f181152008",
     "showTitle": false,
     "tableResultSettingsMap": {},
     "title": ""
    }
   },
   "outputs": [],
   "source": [
    "result = agent_executor.invoke(\n",
    "    {\n",
    "        \"messages\": [\n",
    "            (\"user\", \"How long is the third side of a right triangle with a=3 and b=4?\"),\n",
    "            (\"user\", \"How many roots does the quadratic curve have where a=2, c=2, and b equals the answer to the previous question?\"),\n",
    "        ]\n",
    "    }\n",
    ")"
   ]
  },
  {
   "cell_type": "markdown",
   "metadata": {
    "application/vnd.databricks.v1+cell": {
     "cellMetadata": {},
     "inputWidgets": {},
     "nuid": "aa9b0728-820f-4848-b921-d3d46d56c38c",
     "showTitle": false,
     "tableResultSettingsMap": {},
     "title": ""
    }
   },
   "source": [
    "#... save them to Unity Catalog!"
   ]
  },
  {
   "cell_type": "code",
   "execution_count": 0,
   "metadata": {
    "application/vnd.databricks.v1+cell": {
     "cellMetadata": {
      "byteLimit": 2048000,
      "rowLimit": 10000
     },
     "inputWidgets": {},
     "nuid": "0ad6bcb3-c681-4dc2-8cec-1da66dfa8f95",
     "showTitle": false,
     "tableResultSettingsMap": {},
     "title": ""
    }
   },
   "outputs": [],
   "source": [
    "from unitycatalog.ai.core.databricks import DatabricksFunctionClient\n",
    "client = DatabricksFunctionClient()"
   ]
  },
  {
   "cell_type": "code",
   "execution_count": 0,
   "metadata": {
    "application/vnd.databricks.v1+cell": {
     "cellMetadata": {
      "byteLimit": 2048000,
      "rowLimit": 10000
     },
     "inputWidgets": {},
     "nuid": "0f312a90-25ff-4711-b197-063698cb6758",
     "showTitle": false,
     "tableResultSettingsMap": {},
     "title": ""
    }
   },
   "outputs": [],
   "source": [
    "def solve_quadratic(a: float, b: float, c: float) -> str:\n",
    "    \"\"\"\n",
    "    Solves the quadratic formula give the inputs a, b, and c.\n",
    "    Returns the number of real roots, plus their values if found.\n",
    "\n",
    "    Args:\n",
    "        a (float): The first coefficient of the quadratic equation.\n",
    "        b (float): The second coefficient of the quadratic equation.\n",
    "        c (float): The third coefficient of the quadratic equation.\n",
    "\n",
    "    Returns:\n",
    "        str: The number of real roots, plus their values if found.\n",
    "    \"\"\"\n",
    "    # Calculate the discriminant\n",
    "    discriminant = b**2 - 4*a*c\n",
    "    \n",
    "    # Check if the discriminant is negative, zero, or positive\n",
    "    if discriminant < 0:\n",
    "        return \"No real roots\"\n",
    "    elif discriminant == 0:\n",
    "        x = -b / (2*a)\n",
    "        return f\"One real root: {x}\"\n",
    "    else:\n",
    "        x1 = (-b + math.sqrt(discriminant)) / (2*a)\n",
    "        x2 = (-b - math.sqrt(discriminant)) / (2*a)\n",
    "        return f\"Two real roots: {x1} and {x2}\""
   ]
  },
  {
   "cell_type": "code",
   "execution_count": 0,
   "metadata": {
    "application/vnd.databricks.v1+cell": {
     "cellMetadata": {
      "byteLimit": 2048000,
      "rowLimit": 10000
     },
     "inputWidgets": {},
     "nuid": "089bd7ca-ad87-4131-8d5b-d65726190b74",
     "showTitle": false,
     "tableResultSettingsMap": {},
     "title": ""
    }
   },
   "outputs": [],
   "source": [
    "CATALOG = \"advancing_ai\"\n",
    "SCHEMA = \"agentic-tools\"\n",
    "\n",
    "function_info = client.create_python_function(\n",
    "  func= solve_quadratic,\n",
    "  catalog= CATALOG,\n",
    "  schema= SCHEMA,\n",
    "  replace= True\n",
    ")"
   ]
  }
 ],
 "metadata": {
  "application/vnd.databricks.v1+notebook": {
   "computePreferences": null,
   "dashboards": [],
   "environmentMetadata": {
    "base_environment": "",
    "environment_version": "1"
   },
   "language": "python",
   "notebookMetadata": {
    "pythonIndentUnit": 4
   },
   "notebookName": "3.1. Tools - deterministic functions",
   "widgets": {}
  },
  "language_info": {
   "name": "python"
  }
 },
 "nbformat": 4,
 "nbformat_minor": 0
}
